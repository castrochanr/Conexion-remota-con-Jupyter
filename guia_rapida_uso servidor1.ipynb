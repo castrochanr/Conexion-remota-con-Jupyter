{
 "cells": [
  {
   "cell_type": "markdown",
   "id": "d931b422-43e9-4c52-8f96-13d047817eaa",
   "metadata": {
    "tags": []
   },
   "source": [
    "# Guía rápida para el uso del servidor\n",
    "\n",
    "\n",
    "## Conociendo el sistema GNU/Linux\n",
    "\n",
    "\n",
    "El tutorial a continuación aporta la información básica para poder conectarse y trabajar de manera remota a un servidor mediante [ssh](https://www.openssh.com/) desde una terminal local, esto significa que se interactuará a travez de interfaz de línea de comandos (CLI *por sus siglas en ingles*), sin interfáz gráfica.\n",
    "\n",
    "\n",
    "En el presente tutorial se promueve el uso de Jupyter [lab](https://jupyterlab.readthedocs.io/en/stable/), jupyter [notebook](https://ebac.mx/blog/jupyter-notebook), ambas son plataformas informaticas interactictibas basadas en web adoptadas por el proyecto [Jupyter](https://jupyter.org/). Tango lab y notebook se pueden usar como bitácora de trabajo y para compartír codigo, de la misma manera se puede usar a [RStusio](https://posit.co/download/rstudio-desktop/) y [quarto](https://quarto.org/) como bitácora local de jupyter.\n",
    "\n",
    "[Jupyter](https://jupyter.org/) es un sistema de publicación científica y técnica de código abierto para varios leguajes de programación con licencia BSD, _\"libre\"_ y _\"gratuita\"_. [Jupyter](https://jupyter.org/) es también una comunidad de gente entusiasta en manejo de datos que cree en los estándares de educación y herramientas de acceso abierto. Para mayor información, visite la página de de [Jupyter](https://jupyter.org/) en https://jupyter.org/.\n",
    "\n",
    "\n",
    "## La cadena de conexión\n",
    "![Imagen](laptop_servidor.png)\n",
    "\n"
   ]
  },
  {
   "cell_type": "markdown",
   "id": "654ca5b5-b821-43c2-98e8-77cbb4138ab2",
   "metadata": {},
   "source": [
    "## Organizacion de directorios del sistema en GNU/Linux y gestión de archivos\n",
    "\n",
    "Los servidores en general, en su mayoría, traen distribuciones GNU/Linux, entonces primero hay que conocer la estructura de directorios de este tipo de distribuciones.\n",
    "\n",
    "Como se sabe en GNU/Linux las rutas están construidas un poco diferente a como es en Windows, todo empieza desde la raíz (_\"root\"_) que se escribe con el símbolo <kbd>/</kbd>, dentro del directotio raíz hay varios directorios del sistema acompañado de 1 directorio de usarios de nombre  <kbd>/home</kbd> y dentro del directorio de usuarios está el directorio con los documentos de cada usuario  <kbd>/home/username</kbd>, tal y como se muestra en la imagen a continuación.\n",
    "\n",
    "![Imagen](001_013.jpg)\n",
    "\n",
    "*para carpetas*"
   ]
  },
  {
   "cell_type": "markdown",
   "id": "5f57febe-3b73-4bc3-9536-d5a4b2e17e93",
   "metadata": {
    "tags": []
   },
   "source": [
    "## mover archivos\n",
    "\n",
    "\n",
    "### _*cp*_\n",
    "\n",
    "Primero hay que saber que la acción de  _**mover**_ y _**transferir**_ no son lo mismo, transferir consiste de la gestion de archivos y directorios de un equipo local a uno remoto y viceversa.\n",
    "\n",
    "El comando _**cp**_ es equivalente a copiar y pegar en una sola acción y en esta única acción hay que definir las rutas completas de origen y destino de los archivos a copiar.\n",
    "\n",
    "Si escribimos el comando man y la orden cp en la terminal, nos dirá como utilizar. man está disponible para muchos de los programas de bash."
   ]
  },
  {
   "cell_type": "code",
   "execution_count": 5,
   "id": "c1cfa658-f45d-4d08-b8b0-0183a814b358",
   "metadata": {
    "tags": []
   },
   "outputs": [
    {
     "data": {
      "text/plain": [
       "CP(1)\t\t\t      Órdenes de usuario\t\t\t CP(1)\n",
       "\n",
       "NOMBRE\n",
       "       cp - copia archivos y directorios\n",
       "\n",
       "SINOPSIS\n",
       "       cp [OPCIÓN]... [-T] ORIGEN DEST\n",
       "       cp [OPCIÓN]... ORIGEN... DIRECTORIO\n",
       "       cp [OPCIÓN]... -t DIRECTORIO ORIGEN...\n",
       "\n",
       "DESCRIPCIÓN\n",
       "       Copia ORIGEN en DESTINO, o diversos ORÍGEN(es) a un directorio.\n",
       "\n",
       "       Los  argumentos\tobligatorios  para  las\t opciones  largas  son también\n",
       "       obligatorios para las opciones cortas.\n",
       "\n",
       "       -a, --archive\n",
       "\t      igual que -dR --preserve=todo\n",
       "\n",
       "       --attributes-only\n",
       "\t      no copia los datos de los archivos, sólo sus atributos\n",
       "\n",
       "       --backup[=CONTROL]\n",
       "\t      crea una copia de seguridad de cada archivo de  destino  que  ya\n",
       "\t      exista\n",
       "\n",
       "       -b     como --backup pero no acepta ningún argumento\n",
       "\n",
       "       --copy-contents\n",
       "\t      en  modo\trecursivo,  copia  también  el\tcontenido  de archivos\n",
       "\t      especiales\n",
       "\n",
       "       -d     igual que --no-dereference --preserve=enlaces\n",
       "\n",
       "       -f, --force\n",
       "\t      Si no puede abrirse un archivo  de  destino,  lo\telimina\t y  lo\n",
       "\t      reintenta (esta opción se anula si también está definida -n).\n",
       "\n",
       "       -i, --interactive\n",
       "\t      avisa antes de sobreescribir (anula la opcion -n)\n",
       "\n",
       "       -H     sigue los enlaces simbólicos en ORIGEN\n",
       "\n",
       "       -l, --link\n",
       "\t      crea enlaces duros en lugar de copiar\n",
       "\n",
       "       -L, --dereference\n",
       "\t      sigue siempre los enlaces simbólicos en FUENTE\n",
       "\n",
       "       -n, --no-clobber\n",
       "\t      no sobreescribe un archivo existente (anula la opción -i)\n",
       "\n",
       "       -P, --no-dereference\n",
       "\t      nunca sigue enlaces simbólicos en ORIGEN\n",
       "\n",
       "       -p     igual que --preserve=modo,propietario, marca de tiempo\n",
       "\n",
       "       --preserve[=ATTR_LIST]\n",
       "\t      mantiene\t los   atributos  especificados\t (por  defecto:\t modo,\n",
       "\t      propietario y marcas de tiempo), también otros  si  es  posible:\n",
       "\t      contexto, enlaes, xatrr, todo\n",
       "\n",
       "       --no-preserve=ATTR_LIST\n",
       "\t      no mantiene los atributos indicados\n",
       "\n",
       "       --parents\n",
       "\t      emplea el nombre completo de la ruta en DIRECTORIO\n",
       "\n",
       "       -R, -r, --recursive\n",
       "\t      copia directorios de forma recursiva\n",
       "\n",
       "       --reflink[=CUANDO]\n",
       "\t      controla un clonado (Copy on write) optimizado. Vea más adelante\n",
       "\n",
       "       --remove-destination\n",
       "\t      elimina  los  archivos de destino antes de intentar abrirlos (al\n",
       "\t      contrario que --force)).\n",
       "\n",
       "       --sparse=CUANDO\n",
       "\t      controla la creación de archivos con 'huecos'. Vea más adelante\n",
       "\n",
       "       --strip-trailing-slashes\n",
       "\t      elimina la barra al final de cada argumento de ORIGEN\n",
       "\n",
       "       -s, --symbolic-link\n",
       "\t      crea enlaces simbólicos en lugar de copiar\n",
       "\n",
       "       -S, --suffix=SUFIJO\n",
       "\t      reemplaza el sufijo de respaldo habitual\n",
       "\n",
       "       -t, --target-directory=DIRECTORIO\n",
       "\t      copia todos los argumentos ORIGEN al DIRECTORIO\n",
       "\n",
       "       -T, --no-target-directory\n",
       "\t      trata DESTINO como fichero normal\n",
       "\n",
       "       -u, --update\n",
       "\t      realiza la copia sólo so ORIGEN es más reciente que DESTINO o si\n",
       "\t      no existe este DESTINO\n",
       "\n",
       "       -v, --verbose\n",
       "\t      explica lo que va haciendo\n",
       "\n",
       "       -x, --one-file-system\n",
       "\t      permanece en ese sistema de archivos\n",
       "\n",
       "       -Z     define  el  contexto  de\tseguridad  de  SELinux\tdel archivo de\n",
       "\t      destino con el tipo por defecto\n",
       "\n",
       "       --context[=CTX]\n",
       "\t      como -Z, o si se especifica CTX entonces establece  el  contexto\n",
       "\t      de seguridad SELinux o SMACK a CTX\n",
       "\n",
       "       --help muestra la ayuda y finaliza\n",
       "\n",
       "       --version\n",
       "\t      muestra la versión del programa y termina\n",
       "\n",
       "       Por  defecto,  los archivos con huecos ('sparse files') se detectan con\n",
       "       un mecanismo heurístico muy básico creándose el archivo DESTINO también\n",
       "       con  esa\t característica\t si  se\t define\t --sparse=auto.\t Si  se define\n",
       "       --sparse=always se creará un archivo con huecos\tsiempre\t y  cuando  el\n",
       "       ORIGEN  contenga\t una  secuencia\t de  ceros  los suficientemente larga.\n",
       "       Emplee --sparse=never para evitar la creación de dichos archivos.\n",
       "\n",
       "       Cuando se  define  --reflink[=always],  se  hará\t un  copia  optimizada\n",
       "       únicamente  de los bloques de datos que hayan sido modificados. Si esto\n",
       "       no fuese posible, se produjese un error o si se define  --reflink=auto,\n",
       "       se  hará\t una  copia  estándar. Emplee --reflink=never si quiere que se\n",
       "       haga siempre una copia estándar.\n",
       "\n",
       "       El sufijo de respaldo es '~', a menos que se establezca con --suffix  o\n",
       "       con  SIMPLE_BACKUP_SUFFIX.  El  método  de  control de versión se puede\n",
       "       seleccionar con la opción --backup o a través de la variable de entorno\n",
       "       VERSION_CONTROL. Estos son los valores:\n",
       "\n",
       "       none, off\n",
       "\t      nunca  realiza  copias  de seguridad (incluso si se da la opción\n",
       "\t      --backup)\n",
       "\n",
       "       numbered, t\n",
       "\t      crea copias de seguridad numeradas\n",
       "\n",
       "       existing, nil\n",
       "\t      numeradas si existen copias de seguridad numeradas,  simples  en\n",
       "\t      caso contrario\n",
       "\n",
       "       simple, never\n",
       "\t      siempre crea copias de seguridad simples\n",
       "\n",
       "       como  excepción,\t cp  crea  una\tcopia de seguridad de ORIGEN cuando se\n",
       "       indican las opciones '--force' y '--backup' y ORIGEN y  DESTINO\ttienen\n",
       "       el mismo nombre para un archivo regular.\n",
       "\n",
       "AUTOR\n",
       "       Escrito por Torbjorn Granlund, David MacKenzie y Jim Meyering.\n",
       "\n",
       "INFORMAR DE ERRORES\n",
       "       Ayuda\t     en\t\tlínea\t      de\t GNU\t    Coreutils:\n",
       "       <https://www.gnu.org/software/coreutils/>\n",
       "       Informe\t     cualquier\t     error\t de\t   traducción\t     a\n",
       "       <https://translationproject.org/team/es.html>\n",
       "\n",
       "COPYRIGHT\n",
       "       Copyright  ©  2020  Free Software Foundation, Inc. Licencia GPLv3+: GNU\n",
       "       GPL versión 3 o posterior <https://gnu.org/licenses/gpl.html>.\n",
       "       Esto es software libre: usted es libre de cambiarlo  y  redistribuirlo.\n",
       "       NO HAY GARANTÍA, en la medida permitida por la legislación.\n",
       "\n",
       "VÉASE TAMBIÉN\n",
       "       Documentación completa en <https://www.gnu.org/software/coreutils/cp>\n",
       "       también\t disponible   localmente   ejecutando:\tinfo  '(coreutils)  cp\n",
       "       invocation'\n",
       "\n",
       "TRADUCCIÓN\n",
       "       La traducción al español de esta\t página\t del  manual  fue  creada  por\n",
       "       Marcos Fouces <marcos@debian.org>\n",
       "\n",
       "       Esta  traducción\t es  documentación  libre;  lea\t la GNU General Public\n",
       "       License\t Version   3   ⟨https://www.gnu.org/licenses/gpl-3.0.html⟩   o\n",
       "       posterior  con  respecto\t a  las\t condiciones  de copyright.  No existe\n",
       "       NINGUNA RESPONSABILIDAD.\n",
       "\n",
       "       Si encuentra algún error en la traducción de esta  página  del  manual,\n",
       "       envíe  un  correo  electrónico a debian-l10n-spanish@lists.debian.org>.\n",
       "       ⟨⟩.\n",
       "\n",
       "GNU coreutils 8.32\t      Septiembre de 2020\t\t\t CP(1)\n"
      ]
     },
     "metadata": {},
     "output_type": "display_data"
    }
   ],
   "source": [
    "man cp"
   ]
  },
  {
   "cell_type": "markdown",
   "id": "c8ebb402-4e52-41df-a532-76c341039f66",
   "metadata": {
    "tags": []
   },
   "source": [
    "### _cp_ \n",
    "\n",
    "#### Comando _cp_ aplicado a archivos\n",
    "\n",
    "*para archivos la sintaxis debe ser como se muestra a continuación*:\n",
    "\n",
    "<kbd>__cp__</kbd>    <kbd>__ORIGEN__</kbd>    <kbd>__DESTINO__</kbd>\n"
   ]
  },
  {
   "cell_type": "code",
   "execution_count": 1,
   "id": "87a8859f-ec05-4d31-9bc8-a07bf6c50033",
   "metadata": {
    "tags": []
   },
   "outputs": [],
   "source": [
    "cp /home/rcastro/001_000.jpg /home/rcastro/Imágenes/"
   ]
  },
  {
   "cell_type": "markdown",
   "id": "731b9a06-1e4b-469f-81fc-9f2d9e5e8112",
   "metadata": {},
   "source": [
    "Si yo ejecuto el comando escrito en la línea anterior, le estaría dando la orden a la terminal de copiar un archivo de la ruta /home/user/ a la ruta /home/user/Imágenes/, al poner el nombre y extension del archivo \\*.jpg, sólo en el origen, entonces no se cambiará el nombre del archivo a copiar _001_000.jpg_."
   ]
  },
  {
   "cell_type": "markdown",
   "id": "1ad65daf-7a0f-46b7-b688-d7a504706b6a",
   "metadata": {
    "tags": []
   },
   "source": [
    "### _cp_\n",
    "\n",
    "#### Comando _cp_ aplicado a directorios\n",
    "\n",
    "*para diectorios se requiere la opción _\"-R\"_ que en realidad signfica que el proceso sea reiterativo y la sintaxis debe ser como se muestra a continuación*:\n",
    "\n",
    "<kbd>__cp__</kbd>    <kbd>__-R__</kbd> <kbd>__ORIGEN__</kbd>    <kbd>__DESTINO__</kbd>\n"
   ]
  },
  {
   "cell_type": "code",
   "execution_count": null,
   "id": "c1ae9565-39a7-44c5-9cd8-dd4503d37269",
   "metadata": {},
   "outputs": [],
   "source": [
    "cp -R PATH_ORIGEN PATH_DESTINO # es reiterativo para que copie todo el contenido interno"
   ]
  },
  {
   "cell_type": "markdown",
   "id": "12305d5a-4e2f-4ae6-b1bf-7ada513a6afa",
   "metadata": {},
   "source": [
    "### cd\n",
    "\n",
    "__Entrar y salir de directorios__\n",
    "\n",
    "se puede usar *cd ~/*  y la terminal lo enviará a /home/user\n",
    "\n"
   ]
  },
  {
   "cell_type": "code",
   "execution_count": 11,
   "id": "e9c1cad4-1e4e-4783-940a-f480b90564ac",
   "metadata": {
    "tags": []
   },
   "outputs": [
    {
     "name": "stdout",
     "output_type": "stream",
     "text": [
      "/home/rcastro\n"
     ]
    }
   ],
   "source": [
    "cd ~/"
   ]
  },
  {
   "cell_type": "markdown",
   "id": "dd7493f8-2411-4091-8bfd-bd77a18f9649",
   "metadata": {},
   "source": [
    "cd sirve para moverse entre directorios, si ud proporciona la ruta completa, este lo llevará a ella, revise que significa _ruta relativa_ y _ruta absoluta_ para poder tener una idea mas clara del uso del comando cd\n",
    "\n",
    "La sintaxis es:"
   ]
  },
  {
   "cell_type": "code",
   "execution_count": null,
   "id": "afcb0005-f6d5-48b2-804a-a8696b14c882",
   "metadata": {},
   "outputs": [],
   "source": [
    "cd RUTA_DESTINO"
   ]
  },
  {
   "cell_type": "markdown",
   "id": "f207b7e6-4af2-4321-b61c-085f02e74f12",
   "metadata": {
    "tags": []
   },
   "source": [
    "para *ir* un nivel arriba escriba:"
   ]
  },
  {
   "cell_type": "code",
   "execution_count": null,
   "id": "14db8f80-121d-479e-acd3-c6002e44f707",
   "metadata": {
    "tags": []
   },
   "outputs": [],
   "source": [
    "cd .."
   ]
  },
  {
   "cell_type": "markdown",
   "id": "f01b466f-d46f-4e19-bcce-79c77ea1cd70",
   "metadata": {},
   "source": [
    "para ir a /home/user escriba sólo  \"cd\""
   ]
  },
  {
   "cell_type": "code",
   "execution_count": 12,
   "id": "e977a345-67a8-4379-a227-9817b9858f80",
   "metadata": {
    "tags": []
   },
   "outputs": [
    {
     "name": "stdout",
     "output_type": "stream",
     "text": [
      "/home/rcastro\n"
     ]
    }
   ],
   "source": [
    "cd"
   ]
  },
  {
   "cell_type": "markdown",
   "id": "aec404e1-a0af-4895-a573-6fe6b245b391",
   "metadata": {},
   "source": [
    "### Ver la ruta de trabajo actual"
   ]
  },
  {
   "cell_type": "code",
   "execution_count": 13,
   "id": "11d86b46-44c4-4108-979f-696aac4320c4",
   "metadata": {},
   "outputs": [
    {
     "data": {
      "text/plain": [
       "'/home/rcastro'"
      ]
     },
     "execution_count": 13,
     "metadata": {},
     "output_type": "execute_result"
    }
   ],
   "source": [
    "pwd"
   ]
  },
  {
   "cell_type": "markdown",
   "id": "6a7b733f-101f-4eb1-8f90-56268d25a234",
   "metadata": {},
   "source": [
    "### Ver contenido de una ruta en una lista\n",
    "\n",
    "\n",
    "cualquier cosa precedida por símbolo de \\# es invisible para la terminal, puede usarlo para realizar anotaciones."
   ]
  },
  {
   "cell_type": "code",
   "execution_count": null,
   "id": "69353048-d2ce-4328-9806-94d434acf39c",
   "metadata": {
    "tags": []
   },
   "outputs": [],
   "source": [
    "ls # ya sea en la ruta actual o en una ruta específica|"
   ]
  },
  {
   "cell_type": "markdown",
   "id": "b3f46616-3bb2-4d21-9e27-43c0ffe7e334",
   "metadata": {},
   "source": [
    "### Crear y borrar direcotrios y archivos\n",
    "\n",
    "\n",
    "__Nota: ya sea para copiar o borrar, en caso de los directorios debe usarse -R para que sea reiterativo__"
   ]
  },
  {
   "cell_type": "code",
   "execution_count": null,
   "id": "fd1b8c32-0f28-47ff-bdf8-ef95bbf4b147",
   "metadata": {},
   "outputs": [],
   "source": [
    "mkdir NOMBRE_DIRECTORIO # Crea un directorio"
   ]
  },
  {
   "cell_type": "code",
   "execution_count": null,
   "id": "f0a0d7c2-c30b-45d5-8345-333fa2b8e459",
   "metadata": {},
   "outputs": [],
   "source": [
    "rm -R NOMBRE_DIRECTORIO # Remueven directorio con contenido"
   ]
  },
  {
   "cell_type": "code",
   "execution_count": null,
   "id": "d193aeaf-b736-402e-973d-27b16cc78747",
   "metadata": {},
   "outputs": [],
   "source": [
    "rm archivo,txt # Remueve un archivo de nombre archivo.txt"
   ]
  },
  {
   "cell_type": "code",
   "execution_count": null,
   "id": "a2d19961-79f7-484f-92d1-10478f13d7df",
   "metadata": {},
   "outputs": [],
   "source": [
    "man ls #llama al manual de cualquier programa, como ls"
   ]
  },
  {
   "cell_type": "markdown",
   "id": "672a7455-1257-4c00-a953-12a11c0e462a",
   "metadata": {},
   "source": [
    "### Otros"
   ]
  },
  {
   "cell_type": "markdown",
   "id": "855b01ac-1c22-4b7a-85a5-d3edc3bce67d",
   "metadata": {},
   "source": [
    "Limpiar la terminal, esta tarea puede realizarse mediante\n",
    "<kbd>Alt</kbd> + <kbd>L</kbd>\n",
    "\n",
    "o ejecutando en la terminal:"
   ]
  },
  {
   "cell_type": "code",
   "execution_count": 15,
   "id": "30911bc0-dda9-4cf3-a4ad-729901fe45fa",
   "metadata": {
    "tags": []
   },
   "outputs": [
    {
     "name": "stdout",
     "output_type": "stream",
     "text": [
      "\u001b[H\u001b[2J"
     ]
    }
   ],
   "source": [
    "clear"
   ]
  },
  {
   "cell_type": "markdown",
   "id": "631a8d50-b6dd-454f-9a79-e2c5083af760",
   "metadata": {},
   "source": [
    "Estos son algunos de los comandos más comunes en la gestión de archivos y directorios en GNU/Linux\n",
    "\n",
    "\n",
    "|_Comdando_|Acción|\n",
    "|------------------|--------------------|\n",
    "|_ls_|Visualizar listas de directorios y archivos|\n",
    "|_cd_|Cambiar de directorio|\n",
    "|_pwd_|Mostrar directorio de trabajo|\n",
    "|_mkdir_|Crea directorio vacío|\n",
    "|_rm_|Remover archivos y directorios|\n",
    "|_cp_|Copiar direcotios o archivos|\n",
    "|_mv_|Mover o renombrar archivos o directorios|\n",
    "|_touch_|Crear o actualizar archivo de texto|\n",
    "|_cat_|Visualizar todo el texto de archivo|\n",
    "|_more_|Visualizar texto de archivo|\n",
    "|_less_|Visaulizar texto de archivo |\n",
    "|_head_|Visaulizar 10 primeras líneas de texto de archivo|\n",
    "|_tail_|Visaulizar ultimas 10 lineas de texto de archivo|\n",
    "|_man_|Muestra el manual de los comandos|\n",
    "\n"
   ]
  },
  {
   "cell_type": "markdown",
   "id": "2b086688-2091-4ad6-9175-02f196755a34",
   "metadata": {},
   "source": [
    "## Transferir archivos\n",
    "\n",
    "\n",
    "Esto básicamente consiste de enviar, archivos de un recurso local a uno remoto.\n",
    "\n",
    "\n",
    "### _scp_\n",
    "\n",
    "Este comando, *scp*, requiere del origen y el destino en los equipos local y remoto, estas rutas servirán para gestionar los archivos mediante ssh y scp.\n",
    "\n",
    "para indicar el manual debemos escribir _man scp_"
   ]
  },
  {
   "cell_type": "code",
   "execution_count": 16,
   "id": "53fd89e6-72e6-4f65-907a-42c13f35396e",
   "metadata": {
    "tags": []
   },
   "outputs": [
    {
     "data": {
      "text/plain": [
       "SCP(1)                    BSD General Commands Manual                   SCP(1)\n",
       "\n",
       "NAME\n",
       "     scp — OpenSSH secure file copy\n",
       "\n",
       "SYNOPSIS\n",
       "     scp [-346ABCpqrTv] [-c cipher] [-F ssh_config] [-i identity_file]\n",
       "         [-J destination] [-l limit] [-o ssh_option] [-P port] [-S program]\n",
       "         source ... target\n",
       "\n",
       "DESCRIPTION\n",
       "     scp copies files between hosts on a network.  It uses ssh(1) for data\n",
       "     transfer, and uses the same authentication and provides the same security\n",
       "     as ssh(1).  scp will ask for passwords or passphrases if they are needed\n",
       "     for authentication.\n",
       "\n",
       "     The source and target may be specified as a local pathname, a remote host\n",
       "     with optional path in the form [user@]host:[path], or a URI in the form\n",
       "     scp://[user@]host[:port][/path].  Local file names can be made explicit\n",
       "     using absolute or relative pathnames to avoid scp treating file names\n",
       "     containing ‘:’ as host specifiers.\n",
       "\n",
       "     When copying between two remote hosts, if the URI format is used, a port\n",
       "     may only be specified on the target if the -3 option is used.\n",
       "\n",
       "     The options are as follows:\n",
       "\n",
       "     -3      Copies between two remote hosts are transferred through the local\n",
       "             host.  Without this option the data is copied directly between\n",
       "             the two remote hosts.  Note that this option disables the\n",
       "             progress meter and selects batch mode for the second host, since\n",
       "             scp cannot ask for passwords or passphrases for both hosts.\n",
       "\n",
       "     -4      Forces scp to use IPv4 addresses only.\n",
       "\n",
       "     -6      Forces scp to use IPv6 addresses only.\n",
       "\n",
       "     -A      Allows forwarding of ssh-agent(1) to the remote system.  The de‐\n",
       "             fault is not to forward an authentication agent.\n",
       "\n",
       "     -B      Selects batch mode (prevents asking for passwords or\n",
       "             passphrases).\n",
       "\n",
       "     -C      Compression enable.  Passes the -C flag to ssh(1) to enable com‐\n",
       "             pression.\n",
       "\n",
       "     -c cipher\n",
       "             Selects the cipher to use for encrypting the data transfer.  This\n",
       "             option is directly passed to ssh(1).\n",
       "\n",
       "     -F ssh_config\n",
       "             Specifies an alternative per-user configuration file for ssh.\n",
       "             This option is directly passed to ssh(1).\n",
       "\n",
       "     -i identity_file\n",
       "             Selects the file from which the identity (private key) for public\n",
       "             key authentication is read.  This option is directly passed to\n",
       "             ssh(1).\n",
       "\n",
       "     -J destination\n",
       "             Connect to the target host by first making an scp connection to\n",
       "             the jump host described by destination and then establishing a\n",
       "             TCP forwarding to the ultimate destination from there.  Multiple\n",
       "             jump hops may be specified separated by comma characters.  This\n",
       "             is a shortcut to specify a ProxyJump configuration directive.\n",
       "             This option is directly passed to ssh(1).\n",
       "\n",
       "     -l limit\n",
       "             Limits the used bandwidth, specified in Kbit/s.\n",
       "\n",
       "     -o ssh_option\n",
       "             Can be used to pass options to ssh in the format used in\n",
       "             ssh_config(5).  This is useful for specifying options for which\n",
       "             there is no separate scp command-line flag.  For full details of\n",
       "             the options listed below, and their possible values, see\n",
       "             ssh_config(5).\n",
       "\n",
       "                   AddressFamily\n",
       "                   BatchMode\n",
       "                   BindAddress\n",
       "                   BindInterface\n",
       "                   CanonicalDomains\n",
       "                   CanonicalizeFallbackLocal\n",
       "                   CanonicalizeHostname\n",
       "                   CanonicalizeMaxDots\n",
       "                   CanonicalizePermittedCNAMEs\n",
       "                   CASignatureAlgorithms\n",
       "                   CertificateFile\n",
       "                   ChallengeResponseAuthentication\n",
       "                   CheckHostIP\n",
       "                   Ciphers\n",
       "                   Compression\n",
       "                   ConnectionAttempts\n",
       "                   ConnectTimeout\n",
       "                   ControlMaster\n",
       "                   ControlPath\n",
       "                   ControlPersist\n",
       "                   GlobalKnownHostsFile\n",
       "                   GSSAPIAuthentication\n",
       "                   GSSAPIDelegateCredentials\n",
       "                   HashKnownHosts\n",
       "                   Host\n",
       "                   HostbasedAuthentication\n",
       "                   HostbasedKeyTypes\n",
       "                   HostKeyAlgorithms\n",
       "                   HostKeyAlias\n",
       "                   Hostname\n",
       "                   IdentitiesOnly\n",
       "                   IdentityAgent\n",
       "                   IdentityFile\n",
       "                   IPQoS\n",
       "                   KbdInteractiveAuthentication\n",
       "                   KbdInteractiveDevices\n",
       "                   KexAlgorithms\n",
       "                   LogLevel\n",
       "                   MACs\n",
       "                   NoHostAuthenticationForLocalhost\n",
       "                   NumberOfPasswordPrompts\n",
       "                   PasswordAuthentication\n",
       "                   PKCS11Provider\n",
       "                   Port\n",
       "                   PreferredAuthentications\n",
       "                   ProxyCommand\n",
       "                   ProxyJump\n",
       "                   PubkeyAcceptedKeyTypes\n",
       "                   PubkeyAuthentication\n",
       "                   RekeyLimit\n",
       "                   SendEnv\n",
       "                   ServerAliveInterval\n",
       "                   ServerAliveCountMax\n",
       "                   SetEnv\n",
       "                   StrictHostKeyChecking\n",
       "                   TCPKeepAlive\n",
       "                   UpdateHostKeys\n",
       "                   User\n",
       "                   UserKnownHostsFile\n",
       "                   VerifyHostKeyDNS\n",
       "\n",
       "     -P port\n",
       "             Specifies the port to connect to on the remote host.  Note that\n",
       "             this option is written with a capital ‘P’, because -p is already\n",
       "             reserved for preserving the times and modes of the file.\n",
       "\n",
       "     -p      Preserves modification times, access times, and modes from the\n",
       "             original file.\n",
       "\n",
       "     -q      Quiet mode: disables the progress meter as well as warning and\n",
       "             diagnostic messages from ssh(1).\n",
       "\n",
       "     -r      Recursively copy entire directories.  Note that scp follows sym‐\n",
       "             bolic links encountered in the tree traversal.\n",
       "\n",
       "     -S program\n",
       "             Name of program to use for the encrypted connection.  The program\n",
       "             must understand ssh(1) options.\n",
       "\n",
       "     -T      Disable strict filename checking.  By default when copying files\n",
       "             from a remote host to a local directory scp checks that the re‐\n",
       "             ceived filenames match those requested on the command-line to\n",
       "             prevent the remote end from sending unexpected or unwanted files.\n",
       "             Because of differences in how various operating systems and\n",
       "             shells interpret filename wildcards, these checks may cause\n",
       "             wanted files to be rejected.  This option disables these checks\n",
       "             at the expense of fully trusting that the server will not send\n",
       "             unexpected filenames.\n",
       "\n",
       "     -v      Verbose mode.  Causes scp and ssh(1) to print debugging messages\n",
       "             about their progress.  This is helpful in debugging connection,\n",
       "             authentication, and configuration problems.\n",
       "\n",
       "EXIT STATUS\n",
       "     The scp utility exits 0 on success, and >0 if an error occurs.\n",
       "\n",
       "SEE ALSO\n",
       "     sftp(1), ssh(1), ssh-add(1), ssh-agent(1), ssh-keygen(1), ssh_config(5),\n",
       "     sshd(8)\n",
       "\n",
       "HISTORY\n",
       "     scp is based on the rcp program in BSD source code from the Regents of\n",
       "     the University of California.\n",
       "\n",
       "AUTHORS\n",
       "     Timo Rinne <tri@iki.fi>\n",
       "     Tatu Ylonen <ylo@cs.hut.fi>\n",
       "\n",
       "BSD                             August 3, 2020                             BSD\n"
      ]
     },
     "metadata": {},
     "output_type": "display_data"
    }
   ],
   "source": [
    "man scp #nos muestra el manual de scp"
   ]
  },
  {
   "cell_type": "markdown",
   "id": "7ef3321d-418a-46d0-99e3-e36cba8916ef",
   "metadata": {
    "tags": []
   },
   "source": [
    "Dado que un comando tiene cierta sintaxis:\n",
    "    \n",
    "    comando <opciones> <parámetro1> <parámetro2> ..."
   ]
  },
  {
   "cell_type": "markdown",
   "id": "ec4040b2-0d1f-448a-8864-25915f8ece1a",
   "metadata": {},
   "source": [
    "*scp* se gestiona desde el recurso en el cual se haya la terminal interactuando.\n",
    "\n",
    "Si la terminal se encuentra conectada al servidor, entonces scp se puede usar"
   ]
  },
  {
   "cell_type": "code",
   "execution_count": null,
   "id": "9e83684b-491b-4bfc-bf83-5252c8b70668",
   "metadata": {},
   "outputs": [],
   "source": [
    "scp [options] ORIGEN DESTINO"
   ]
  },
  {
   "cell_type": "markdown",
   "id": "733d4e56-b6c1-4837-b1f6-f0ed5388e20a",
   "metadata": {},
   "source": [
    "donde:\n",
    "\n",
    "origen es el archivo que quiere copiar y destino es la ruta a donde lo va a copiar, por ejemplo:\n",
    "\n",
    "#### _Enviar_\n",
    "\n",
    "La operación a continuación la podríamos definir como enviar.\n",
    "\n",
    "Si tenemos un servidor con dirección ip 192.168.8.1, entonces para copiar un archivo de un equipo local a uno remoto escribimos:"
   ]
  },
  {
   "cell_type": "code",
   "execution_count": null,
   "id": "f6210636-f241-4b3c-8172-a3c557052f5a",
   "metadata": {
    "tags": []
   },
   "outputs": [],
   "source": [
    "scp archivo_local user@192.168.8.1:/home/user/PATH_destino/archivo"
   ]
  },
  {
   "cell_type": "markdown",
   "id": "0eeaefb3-15a9-4e99-898a-7eb1bd87ddd3",
   "metadata": {},
   "source": [
    "#### _Importar_\n",
    "\n",
    "Pero si lo que deseamos hacer es copiar un archivo del servidor remoto a la maquina local entonces lo que debemos ejecutar será algo similar a:\n"
   ]
  },
  {
   "cell_type": "code",
   "execution_count": null,
   "id": "56e59124-b946-438b-895b-f3d7676e9318",
   "metadata": {},
   "outputs": [],
   "source": [
    "scp user@192.168.8.1:/home/user/PATH_destino/archivo PATH_local/archivo_local"
   ]
  },
  {
   "cell_type": "markdown",
   "id": "9a2f550b-c1dd-48c1-b6c6-ae1dc322563f",
   "metadata": {},
   "source": [
    "El ejemplo anterior podríamos definirlo como importar.\n",
    "\n",
    "\n",
    "__Nota: Si se incluye la opción -R  antes del origen, el proceso se convierte en reiterativo y puede ejecutarse sobre directorios__"
   ]
  },
  {
   "cell_type": "markdown",
   "id": "27787983-aaba-4d18-a482-d7cbe077f6a6",
   "metadata": {},
   "source": [
    "## Realizando la conexión a un servidor remoto"
   ]
  },
  {
   "cell_type": "markdown",
   "id": "8da58e30-69d1-4776-8e40-809bb0c461d6",
   "metadata": {},
   "source": [
    "Al nombre de usuario que de manera convencional se le llamará *user*\n",
    "\n",
    "Los comandos de este turorial son para ser utilizados directamente desde la terminal, no desde Jupyter, si en algún momento se requiere el uso de software, se le indicará en el texto.\n",
    "\n",
    "Por convención se entiene:\n",
    "\n",
    "__Terminal, computadora o recurso local__: *Es aquel que sólo afecta a la computadora, sin haber establecido conexión con el servidor. (o máquina local)*\n",
    "\n",
    "__Terminal, computadora o recurso remoto__: *Es aquel que afecta al servidor, es cuando ya se encuentra conectado o se hace referencia al servidor.*\n",
    "\n",
    "\n",
    "Si asumimos que el servidor tiene como dirección ip: *__192.168.8.1__*, el ususario debera usar esa dirección en una terminal con ssh (asumiendo que tiene instalado ssh en la __Computadora Local__).\n",
    "\n",
    "Si no tiene instalado ssh __Computadora Local__, se puede instalar mediante el comando a continuación.\n",
    "\n",
    "_**nota: Todo lo que vaya posterior al un símbolo de \"#\" será ignorado y tratado como comentario**_"
   ]
  },
  {
   "cell_type": "code",
   "execution_count": 11,
   "id": "043babf5-a86c-45d0-b68c-41e913e3ecb8",
   "metadata": {
    "tags": []
   },
   "outputs": [],
   "source": [
    "sudo apt-get install openssh-server openssh-client openssh #ejecute si requiere instalar"
   ]
  },
  {
   "cell_type": "markdown",
   "id": "321feb4d-ce13-478f-9987-63de6fcd64b7",
   "metadata": {},
   "source": [
    "Una vez instalado ssh, se estable ce la conexcion al servidor mediante el usuario y pass asignado:"
   ]
  },
  {
   "cell_type": "code",
   "execution_count": null,
   "id": "fd95b0d5-36fd-4126-8d35-86467233a421",
   "metadata": {
    "tags": []
   },
   "outputs": [],
   "source": [
    "ssh user@192.168.8.1 #No corra este comando en Jupyter"
   ]
  },
  {
   "cell_type": "markdown",
   "id": "898865a0-b2fd-477a-b018-dc1de559d4f8",
   "metadata": {
    "tags": []
   },
   "source": [
    "El comando anterio es para conectarse al sevidor remoto desde la terminal de un equipo local, posterior a ello, pedirá un password"
   ]
  },
  {
   "cell_type": "markdown",
   "id": "a29a7c32-8490-4f7b-a49c-a12d686ff131",
   "metadata": {},
   "source": [
    "_**nota: Se debe eiminar el símbolo \"#\" que se encuentra al inicio del comando para que la terminal lo reconozca, todo lo que vaya posterior al un símbolo de \"#\" será ignorado**_ "
   ]
  },
  {
   "cell_type": "markdown",
   "id": "8a3e5e1c-d532-45b8-b24b-d58b728506ef",
   "metadata": {
    "tags": []
   },
   "source": [
    "El comando \"_passwd_\" sólo ejecuta si es la primera vez con el servidor"
   ]
  },
  {
   "cell_type": "markdown",
   "id": "1513ab4d-75dc-46a5-9bdb-249208842488",
   "metadata": {},
   "source": [
    "El comando passwd es para cambiar el password asignado, generalmente es solo para la primera vez que se conecta a un servidor, porque por lo común, los usuarios no tienen permisos de root\n",
    "\n",
    "Una vez intriducido el password aparecerá algo similar a esto:"
   ]
  },
  {
   "cell_type": "markdown",
   "id": "9197bceb-2c8c-40c4-8a3f-e469db6948f0",
   "metadata": {
    "tags": []
   },
   "source": [
    "![](001_000.jpg)"
   ]
  },
  {
   "cell_type": "markdown",
   "id": "fad9e943-2905-4590-bc0d-35d3ad30247c",
   "metadata": {
    "tags": []
   },
   "source": [
    "__Nota: Todo lo que realizará a continuación sera con conexión remota a un servidor desde terminal WSL o desde terminal GNU/Linux (logeado por ssh en el servidor):__\n",
    "\n",
    "Los servidores GNU/Linux ya viene con [python](https://www.python.org/doc/), [Jupyter](https://jupyter.org/)-[lab](https://jupyterlab.readthedocs.io/en/stable/) y [Jupyter](https://jupyter.org/)-[notebook](https://ebac.mx/blog/jupyter-notebook) nativo instalado, y muy probablemente también anaconda, pero si desea y puede hacer la instalación de anaconda, primero debe tener encuenta que se instala en su __$HOME__ y no en el sistema, entonces las instalacione remotas de anaconda en servidores se almacenan en el $HOME de los usuarios, se proporciona esta información en caso de que se anime arealizar la instalación de la distribución de anaconda.\n",
    "\n",
    "En caso contrario, ya debe estar instalado en su sistema o debe cargarse con un gestor de carga de paquetes com Environment-modules.\n",
    "\n",
    "\n",
    "Se dejan los pasos a seguir para la instalación de anaconda.\n",
    "\n",
    "Se describen los pasos a continuación:\n",
    "\n",
    "\n",
    "1. Primero en el explorador de internet de la __maquina local__ se abre la pagina de [anaconda](https://www.anaconda.com/products/distribution#Downloads) y se busca la última versión:  \n",
    "https://www.anaconda.com/products/distribution#Downloads"
   ]
  },
  {
   "cell_type": "markdown",
   "id": "b4574a85-c1e6-4cd1-9fd4-ac26d8c01880",
   "metadata": {},
   "source": [
    "2. Enla sección de descargas, se seleccina el paquete a instalar, si el servidor es GNU/Linux, entonces la versión a instalar es de linux, se copia la dirección de enlace y se pega en la __terminal remota__ del servidor con click derecho sobre el ícono __64-Bit (x86) Installer (737 MB)__ y precedido por el comando __*wget*__, por ejemplo:"
   ]
  },
  {
   "cell_type": "code",
   "execution_count": null,
   "id": "19d44d12-ca76-4541-a480-74a625289e16",
   "metadata": {},
   "outputs": [],
   "source": [
    "wget https://repo.anaconda.com/archive/Anaconda3-2022.10-Linux-x86_64.sh"
   ]
  },
  {
   "cell_type": "markdown",
   "id": "7d2e8af5-246b-4626-840e-8b27c194997c",
   "metadata": {},
   "source": [
    "3. Se introduzce el comando __\"ls\"__ para listar archivos y ver si se descargo el archivo instalador con extensión **_*.sh_**:"
   ]
  },
  {
   "cell_type": "code",
   "execution_count": null,
   "id": "8429d2a1-0b57-49ae-96b2-912a903b2ac2",
   "metadata": {},
   "outputs": [],
   "source": [
    "ls"
   ]
  },
  {
   "cell_type": "markdown",
   "id": "e8701d1b-2979-4166-b8c4-9f0f96b2e633",
   "metadata": {
    "tags": []
   },
   "source": [
    "4. Es probable que encuentre un archivo como __Anaconda3-2022.10-Linux-x86_64.sh__ entre los archivos, entonces se ejecutael instalador mediante:"
   ]
  },
  {
   "cell_type": "code",
   "execution_count": null,
   "id": "ff1499fb-35ce-42ba-88d1-494595d6133b",
   "metadata": {},
   "outputs": [],
   "source": [
    "sh Anaconda3-2022.10-Linux-x86_64.sh"
   ]
  },
  {
   "cell_type": "markdown",
   "id": "f823e42d-01e9-4797-a7fc-2d3266416877",
   "metadata": {},
   "source": [
    "5. Las instrucciones del instalador, guían al usuario:\n",
    "\n",
    "- Se debe aceptar la licencia escribiendo \"*yes*\" cuando se solicite.\n",
    "\n",
    "- Se debe aceptar con enter o intro cuando el instaladorpide confirmar el directorio de instalación /home/user\n",
    "\n",
    "- Se debe escribir \"*yes*\" al final de la instalación cuando el instalador pregunta si quiere ejecutar conda init para inicioa automático de anaconda\n",
    "\n",
    "\n",
    "\n",
    "6. Salga del servidor con la finalidad de reiniciarlo escribiendo:"
   ]
  },
  {
   "cell_type": "code",
   "execution_count": null,
   "id": "bc2a62ca-aff9-44f3-87bc-8cfae69a78ac",
   "metadata": {},
   "outputs": [],
   "source": [
    "exit"
   ]
  },
  {
   "cell_type": "markdown",
   "id": "d509a165-295c-4e71-b3f9-c1e5a94da322",
   "metadata": {},
   "source": [
    "En la terminal antes de la insalación se ve así: \n",
    "__user@servidor__\n",
    "\n",
    "7. Posterior a la instalación de anaconda al conectarse al servidor, en la ventana aparecerá __(base)__ junto al nombre del ususario:\n",
    "\n",
    "__(base)user@servidor__"
   ]
  },
  {
   "cell_type": "markdown",
   "id": "b493af74-6ff4-4ab3-93da-bc1dbd1f6120",
   "metadata": {
    "tags": []
   },
   "source": [
    "8. Se confirma que la instalación de anaconda revisando los ambientes;"
   ]
  },
  {
   "cell_type": "code",
   "execution_count": null,
   "id": "ec276ba9-7d1b-4189-a439-131b8e208da1",
   "metadata": {},
   "outputs": [],
   "source": [
    "conda info --envs"
   ]
  },
  {
   "cell_type": "markdown",
   "id": "581d939a-1fda-4beb-a209-f85969cf47ca",
   "metadata": {},
   "source": [
    "En los servidores con GNU/Linux ya traen preinsalado python y pueden traer Jupyter, la distribución de anaconda también traje jupyter, siempre y cuando se haya instalado anaconda y no una versión minimalista de la como conda, pero se puede confirmar si en la instalación hay Jupyter mediante la revisión de cual jupyter hay en el sistema.\n",
    "\n",
    "\n",
    "- Primero, se desactiva anaconda mediante:"
   ]
  },
  {
   "cell_type": "code",
   "execution_count": null,
   "id": "a82a7467-9e00-4c3e-8b69-2f0a60c18568",
   "metadata": {},
   "outputs": [],
   "source": [
    "conda deactivate"
   ]
  },
  {
   "cell_type": "markdown",
   "id": "e0e90018-e198-436a-97dc-29344794bea6",
   "metadata": {},
   "source": [
    "- Segundo, se confirma que existe un python nativo mediante:"
   ]
  },
  {
   "cell_type": "code",
   "execution_count": null,
   "id": "93557138-903a-454b-ab49-a027faad6385",
   "metadata": {},
   "outputs": [],
   "source": [
    "which python # Esto muestra la ruta de instalación nativa de Python\n",
    "python --version# Esto muestra la versión nativa de Python"
   ]
  },
  {
   "cell_type": "code",
   "execution_count": null,
   "id": "56f02450-609c-4c38-bf18-3261c291cc91",
   "metadata": {},
   "outputs": [],
   "source": [
    "which Jupyter #Esto muestra la ruta de instalación nativa de Jupyter\n",
    "jupyter --version # Esto muestra la versión nativa de Jupyter"
   ]
  },
  {
   "cell_type": "markdown",
   "id": "a9928dce-f900-44bf-ac1b-99d34821774c",
   "metadata": {},
   "source": [
    "- Tercero, se activa anaconda de nuevamente mediante:"
   ]
  },
  {
   "cell_type": "code",
   "execution_count": null,
   "id": "4a132fdc-c1c3-490d-9f0c-6be1955d11b9",
   "metadata": {},
   "outputs": [],
   "source": [
    "conda activate"
   ]
  },
  {
   "cell_type": "markdown",
   "id": "e397da0b-a460-4daf-ad47-e83b417322a5",
   "metadata": {},
   "source": [
    "- Con anaconda activo, se vuelve a correr:"
   ]
  },
  {
   "cell_type": "code",
   "execution_count": null,
   "id": "75b505b6-0f6e-48c9-ba1f-b6297d302d7e",
   "metadata": {},
   "outputs": [],
   "source": [
    "which python # Esto muestra la ruta de instalación nativa de Python\n",
    "python --version# Esto muestra la versión nativa de Python"
   ]
  },
  {
   "cell_type": "code",
   "execution_count": null,
   "id": "29b7c0d4-d166-43c7-9864-669664fd01e9",
   "metadata": {},
   "outputs": [],
   "source": [
    "which Jupyter #Esto muestra la ruta de instalación nativa de Jupyter\n",
    "jupyter --version # Esto muestra la versión nativa de Jupyter"
   ]
  },
  {
   "cell_type": "markdown",
   "id": "1e9a2a3d-fbad-4023-b5d0-23b76dce26e4",
   "metadata": {
    "tags": []
   },
   "source": [
    "9. Se deben crear ambientes en donde realicen las intalaciones de anaconda de acuerdo a las necesidades de los usuarios"
   ]
  },
  {
   "cell_type": "markdown",
   "id": "0bf71bc4-bec0-4628-a5e3-edfa4c4e0919",
   "metadata": {},
   "source": [
    "10. Fin del primer contacto"
   ]
  },
  {
   "cell_type": "markdown",
   "id": "83aeb4a6-2796-44fc-8c6f-483e3ca80246",
   "metadata": {},
   "source": [
    "## Conexion a servidor remoto vía Jupyter"
   ]
  },
  {
   "cell_type": "markdown",
   "id": "8b40f03f-3df8-43cc-889c-71e2d6cb8fe3",
   "metadata": {},
   "source": [
    "Una vez insalados todos los paquetes a utilizar, el trabajo se realiza mediante Jupyter\n",
    "\n",
    "\n",
    "\n",
    "__Nota: Todo lo que se indica en este punto debe realizarse en terminal, salvo que se indique lo contrario__"
   ]
  },
  {
   "cell_type": "markdown",
   "id": "eb8512e1-4294-4dbf-8f52-f896bf630635",
   "metadata": {},
   "source": [
    "1. Desde la tertminal de la distribución GNU/Linux o WSL de la computadora local se escribe lo siguiente para loguearse:\n",
    "\n",
    "__**Nota: use la dirección ip de su servidor**__"
   ]
  },
  {
   "cell_type": "code",
   "execution_count": null,
   "id": "1f2f53a0-5df9-468c-827a-e0e8d7e33922",
   "metadata": {},
   "outputs": [],
   "source": [
    "ssh user@192.168.8.1 #EL USER DEBE SER EL PROPIO"
   ]
  },
  {
   "cell_type": "markdown",
   "id": "b738f2f7-eb8e-4030-a040-decba2ab51be",
   "metadata": {},
   "source": [
    "2. Se loguea con password (a partir de este punto su ejeuión de terminal se convierte en __remota__)\n",
    "\n",
    "3. En el servidor remoto se debe una de las ordenes dependiendo de si desea ejecutar \"jupyter lab\" o \"jupyter notebook\":"
   ]
  },
  {
   "cell_type": "code",
   "execution_count": null,
   "id": "29723bcf-331a-4e3e-b26b-34952ae3fe20",
   "metadata": {},
   "outputs": [],
   "source": [
    "jupyter lab --no-browser --port=8888 #se debe usar esta para conectar con Jupyter lab\n",
    "#jupyter notebook --no-browser --port=8888 #se debe usar esta para conectar con Jupyter notebook"
   ]
  },
  {
   "cell_type": "markdown",
   "id": "453aca9f-c6a1-4061-8400-e9206e1770d2",
   "metadata": {},
   "source": [
    "La orden anterior permitirá que Jupyter establezca una conexion remota con el servidor, pero no abrirá una ventana en el explorador de internet"
   ]
  },
  {
   "cell_type": "markdown",
   "id": "6bf346a2-84b4-486e-8515-b814d69ab4a4",
   "metadata": {},
   "source": [
    "4. __Sin cerrar la terminal anterior__, abra una segunda terminal de la maquina local:"
   ]
  },
  {
   "cell_type": "markdown",
   "id": "84e5ea4a-3749-402f-bb7a-990be0cf55d3",
   "metadata": {},
   "source": [
    "5. En la segunda terminal ejecute lo siguiente:"
   ]
  },
  {
   "cell_type": "code",
   "execution_count": null,
   "id": "01aa33c1-aa49-4934-93a5-1fe7a427e9f8",
   "metadata": {},
   "outputs": [],
   "source": [
    "ssh -NL localhost:1234:localhost:8888 user@192.168.8.1"
   ]
  },
  {
   "cell_type": "markdown",
   "id": "8648b11d-0bcd-4040-9862-8a30816d3515",
   "metadata": {},
   "source": [
    "La segunda terminal le pedirá un pasword, en este punto la maquina local ya está conectada al servidor remoto por Jupyter \n",
    "\n",
    "__Nota: No se debe cerrar ninguna de las dos ventanas en ejecución__\n",
    "\n",
    "6. Abra el explorador de internet de su preferencia y pegue la dirección:\n"
   ]
  },
  {
   "cell_type": "markdown",
   "id": "c096b529-ae17-497a-b089-c9f63581cbc8",
   "metadata": {},
   "source": [
    "http://localhost:1234"
   ]
  },
  {
   "cell_type": "markdown",
   "id": "a68b4567-355f-4b87-aeac-58f3e3e7de1b",
   "metadata": {},
   "source": [
    "__**Nota: El puerto local del servidor remoto que esta ud utilizando en el ejemplo es el puerto 1234, sólo acepta un usuario por puerto, puede conectarse con algún otro puerto si este esta ocupado.**__\n",
    "\n",
    "7. Congratulaciones, debe haber conexion al servidor por Jupyter notebook o lab"
   ]
  },
  {
   "cell_type": "markdown",
   "id": "778074c9-5b72-4587-8652-c57399de96e8",
   "metadata": {},
   "source": [
    "Todo los que se ejecute o guarde en el Jupyter lab en este punto, afecta al servidor remoto"
   ]
  }
 ],
 "metadata": {
  "kernelspec": {
   "display_name": "Bash",
   "language": "bash",
   "name": "bash"
  },
  "language_info": {
   "codemirror_mode": "shell",
   "file_extension": ".sh",
   "mimetype": "text/x-sh",
   "name": "bash"
  }
 },
 "nbformat": 4,
 "nbformat_minor": 5
}
