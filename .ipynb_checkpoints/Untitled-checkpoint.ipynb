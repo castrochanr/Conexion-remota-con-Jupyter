{
 "cells": [
  {
   "cell_type": "markdown",
   "id": "b9922b9c-a9f0-40a1-9000-875f4b787b7e",
   "metadata": {},
   "source": [
    "# Compilacióón e istalación de [MrBayes](https://nbisweden.github.io/MrBayes/download.html) con [Beagle](https://github.com/beagle-dev/beagle-lib/wiki/LinuxInstallInstructions) y [cuda](https://developer.nvidia.com/cuda-gpus)\n",
    "\n",
    "\n",
    "\n",
    "La referencia principal es la pagina de [MrBayes](https://nbisweden.github.io/MrBayes/download.html), aunque hay varios blogs y páginas que desciben como instalar.\n",
    "\n",
    "https://nbisweden.github.io/MrBayes/manual.html\n",
    "\n",
    "\n",
    "Esta guía es para compilar los paquetes para debian, aunque pueden haber pequeñas diferencias para Ubuntu.\n",
    "\n",
    "\n",
    "En el tutorial albergado en la web en la sección de descarga, menciona las ventajas de las versiones seriadas de Beagle vesus versión de MPI.da un link para la instalación de Beagle en distintos sistemas operativos.\n",
    "\n",
    "https://github.com/beagle-dev/beagle-lib\n",
    "\n",
    "\n",
    "En la sección de *\"instalation instructions\"*, y luego en [*\"Instructions for installing BEAGLE on Linux\"*](https://github.com/beagle-dev/beagle-lib/wiki/LinuxInstallInstructions) se encuantra los requisitos para compilar y el procedimiento de compilación.\n",
    "\n",
    "\n",
    "1. Previo a esto, se debe tener instalado NVIDIA y [cuda](https://developer.nvidia.com/cuda-gpus).\n",
    "\n",
    "Con nvidia-detect puede saber cual es el driver que tiene instalar y para cuda, tiene que descargarlo como se indica arriba.\n",
    "\n",
    "Como se muestra a continuación:"
   ]
  },
  {
   "cell_type": "code",
   "execution_count": 2,
   "id": "c58b2efe-fbab-409d-bdc2-2371f4936a73",
   "metadata": {
    "tags": []
   },
   "outputs": [
    {
     "name": "stdout",
     "output_type": "stream",
     "text": [
      "Detected NVIDIA GPUs:\n",
      "01:00.0 VGA compatible controller [0300]: NVIDIA Corporation GF119 [GeForce GT 620 OEM] [10de:1049] (rev a1)\n",
      "\n",
      "Checking card:  NVIDIA Corporation GF119 [GeForce GT 620 OEM] (rev a1)\n",
      "Your card is only supported up to the 390 legacy drivers series.\n",
      "It is recommended to install the\n",
      "    nvidia-legacy-390xx-driver\n",
      "package.\n"
     ]
    }
   ],
   "source": [
    "nvidia-detect"
   ]
  },
  {
   "cell_type": "markdown",
   "id": "e3d61616-f8de-4936-903a-bf817e59fcd1",
   "metadata": {},
   "source": [
    "En este caso NVIDIA se instala mediante la orde **sudo apt install nvidia-legacy-390xx-driver**\n",
    "\n",
    "\n",
    "2. Intalar Cuda,\n",
    "Para cuda debe ingresar a la pagina de [Nvidia-cuda](https://developer.nvidia.com/cuda-gpus) y seleccion su sistema para descargar el paquete correcto.\n",
    "\n",
    "- Distema operativo\n",
    "- Arquitectura\n",
    "- Distribució\n",
    "- Versión\n",
    "- Instalador\n",
    "\n",
    "\n",
    "Dará una serie de instrucciones para instalar cuda\n",
    "\n",
    "\n",
    "Una vez instalado nvidia y cuda, entonces procedemos a instalar [MrBayes](https://nbisweden.github.io/MrBayes/download.html) y [Beagle](https://github.com/beagle-dev/beagle-lib/wiki/LinuxInstallInstructions).\n",
    "\n",
    "3. Intalación [MrBayes](https://nbisweden.github.io/MrBayes/download.html)\n",
    "\n",
    "La instalación de MrBayes puede ser por compilación como se menciona en la pagina 103 del [manual](https://github.com/NBISweden/MrBayes/blob/develop/doc/manual/Manual_MrBayes_v3.2.pdf) de [MrBayes](https://nbisweden.github.io/MrBayes/download.html), mediante compilación, sobre todo para compilar la version MPI de MrBayes.\n",
    "\n",
    "\n",
    "Se puede referir a la sección *Installing MrBayes from the GitHub sources on Unix*, ahí se encontrarán las intrucciones de compilación."
   ]
  },
  {
   "cell_type": "code",
   "execution_count": null,
   "id": "f68318a2-0c79-4f32-917a-ed57feecf831",
   "metadata": {},
   "outputs": [],
   "source": []
  }
 ],
 "metadata": {
  "kernelspec": {
   "display_name": "Bash",
   "language": "bash",
   "name": "bash"
  },
  "language_info": {
   "codemirror_mode": "shell",
   "file_extension": ".sh",
   "mimetype": "text/x-sh",
   "name": "bash"
  }
 },
 "nbformat": 4,
 "nbformat_minor": 5
}
