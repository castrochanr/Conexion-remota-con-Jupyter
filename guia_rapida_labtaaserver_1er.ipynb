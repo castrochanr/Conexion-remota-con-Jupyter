{
 "cells": [
  {
   "cell_type": "markdown",
   "id": "5548d186-8ce7-487d-aaf9-dc3bbba02c2f",
   "metadata": {},
   "source": [
    "# Guía rápida para el uso del servidor LaBTAA\n",
    "\n",
    "En su primer contacto con el servidor este le permitirá crear un nuevo password, este se debe cambiar mediante:\n",
    "\n",
    "\n",
    "## El primer contacto"
   ]
  },
  {
   "cell_type": "markdown",
   "id": "8da58e30-69d1-4776-8e40-809bb0c461d6",
   "metadata": {},
   "source": [
    "Se le proveera de un nombre de usuario que de manera convencional llamaremos *user*\n",
    "\n",
    "Los comandos son para ser utilizados desde la terminal, no desde Jupyter, cuando se va a configurar la coniección a Jupyter se le indicará en el texto.\n",
    "\n",
    "El servidor tiene como dirección ip: *__10.5.7.10__*, de tal manera que su usuario debera introducirlo en una terminal con ssh (asumiendo que tiene instalado ssh en su __Computadora Local__), si no lo tiene instalado, lo puede hacer mediante\n",
    "\n",
    "\n",
    "_**nota: Elimine el símbolo \"#\" que se encuentra al inicio del comando para que la terminal lo reconozca, recuerde que todo lo que vaya posterior al un símbolo de \"#\" será ignorado**_"
   ]
  },
  {
   "cell_type": "code",
   "execution_count": 11,
   "id": "043babf5-a86c-45d0-b68c-41e913e3ecb8",
   "metadata": {
    "tags": []
   },
   "outputs": [],
   "source": [
    "#apt-get install openssh-server openssh-client openssh #ejecute si requiere instalar"
   ]
  },
  {
   "cell_type": "markdown",
   "id": "321feb4d-ce13-478f-9987-63de6fcd64b7",
   "metadata": {},
   "source": [
    "Una vez instalado ssh, ud puede conectarse al servidor mediante el usuario y pass asignado mediante:"
   ]
  },
  {
   "cell_type": "code",
   "execution_count": null,
   "id": "fd95b0d5-36fd-4126-8d35-86467233a421",
   "metadata": {
    "tags": []
   },
   "outputs": [],
   "source": [
    "ssh user@10.5.7.10 #No corra este comando en Jupyter"
   ]
  },
  {
   "cell_type": "markdown",
   "id": "898865a0-b2fd-477a-b018-dc1de559d4f8",
   "metadata": {
    "tags": []
   },
   "source": [
    "El comando anterio es para conectarse al sevidor desde la terminal"
   ]
  },
  {
   "cell_type": "markdown",
   "id": "a29a7c32-8490-4f7b-a49c-a12d686ff131",
   "metadata": {},
   "source": [
    "_**nota: Elimine el símbolo \"#\" que se encuentra al inicio del comando para que la terminal lo reconozca, recuerde que todo lo que vaya posterior al un símbolo de \"#\" será ignorado**_ "
   ]
  },
  {
   "cell_type": "code",
   "execution_count": 13,
   "id": "db7f1d15-d056-4871-84af-3a25c8c167a1",
   "metadata": {
    "tags": []
   },
   "outputs": [],
   "source": [
    "#passwd #sólo ejecute si es su primera vez con el servidor"
   ]
  },
  {
   "cell_type": "markdown",
   "id": "1513ab4d-75dc-46a5-9bdb-249208842488",
   "metadata": {},
   "source": [
    "Al entrar al servidor ud podrá ver algo parecido:"
   ]
  },
  {
   "cell_type": "markdown",
   "id": "9197bceb-2c8c-40c4-8a3f-e469db6948f0",
   "metadata": {
    "tags": []
   },
   "source": [
    "![](001_000.jpg)"
   ]
  },
  {
   "cell_type": "markdown",
   "id": "fad9e943-2905-4590-bc0d-35d3ad30247c",
   "metadata": {
    "tags": []
   },
   "source": [
    "__Nota: Todo lo que realizará a continuación sera con su WSL conectado por ssh al servidor:__\n",
    "\n",
    "El servidor trae instalado Jupyter notebook y lab nativo, pero la instalación de anaconda se instala en el home de cada ususario, entonces tendrá que hacer su propia instalación en su /home del servidor.\n",
    "\n",
    "\n",
    "1. Primero en su explorador de internet de su maquina local, vaya a la pagina de [anaconda](https://www.anaconda.com/products/distribution#Downloads) y busque la ultima versión:"
   ]
  },
  {
   "cell_type": "markdown",
   "id": "b4574a85-c1e6-4cd1-9fd4-ac26d8c01880",
   "metadata": {},
   "source": [
    "2. El servidor es linux, entonces la versión a instalar es linux, a continuación haga click derecho sobre el ícono __64-Bit (x86) Installer (737 MB)__ y de copiar dirección de enlace y en su terminal del servidor ponga:"
   ]
  },
  {
   "cell_type": "code",
   "execution_count": null,
   "id": "19d44d12-ca76-4541-a480-74a625289e16",
   "metadata": {},
   "outputs": [],
   "source": [
    "wget https://www.anaconda.com/products/distribution#Downloads"
   ]
  },
  {
   "cell_type": "markdown",
   "id": "7d2e8af5-246b-4626-840e-8b27c194997c",
   "metadata": {},
   "source": [
    "3. Introduzca el comando para ver si se descargo su archivo:"
   ]
  },
  {
   "cell_type": "code",
   "execution_count": null,
   "id": "8429d2a1-0b57-49ae-96b2-912a903b2ac2",
   "metadata": {},
   "outputs": [],
   "source": [
    "ls"
   ]
  },
  {
   "cell_type": "markdown",
   "id": "e8701d1b-2979-4166-b8c4-9f0f96b2e633",
   "metadata": {},
   "source": [
    "4. Es probable que encuentre una archivo como __Anaconda3-2022.10-Linux-x86_64.sh__ entre sus archivos, entonces ejecute:"
   ]
  },
  {
   "cell_type": "code",
   "execution_count": null,
   "id": "ff1499fb-35ce-42ba-88d1-494595d6133b",
   "metadata": {},
   "outputs": [],
   "source": [
    "sh Anaconda3-2022.10-Linux-x86_64.sh"
   ]
  },
  {
   "cell_type": "markdown",
   "id": "f823e42d-01e9-4797-a7fc-2d3266416877",
   "metadata": {},
   "source": [
    "5. Siga las instrucciones del instalador, este lo guiará:\n",
    "\n",
    "- Acepte la licencia escribiendo \"*yes*\" cuando se lo solicite.\n",
    "\n",
    "- Precione enter o intro cuando le pregunte si quiere cguardar en su /home/user\n",
    "\n",
    "- Escriba \"*yes*\" al final de la instalación cuando le pregunte si quiere ejecutar conda init\n",
    "\n",
    "\n",
    "\n",
    "6. Salga del servidor escribiendo:"
   ]
  },
  {
   "cell_type": "code",
   "execution_count": null,
   "id": "bc2a62ca-aff9-44f3-87bc-8cfae69a78ac",
   "metadata": {},
   "outputs": [],
   "source": [
    "exit"
   ]
  },
  {
   "cell_type": "markdown",
   "id": "d509a165-295c-4e71-b3f9-c1e5a94da322",
   "metadata": {},
   "source": [
    "En su terminal ud antes veía \n",
    "__user@labtaa__\n",
    "\n",
    "7. Vuelva conectarse al servidor, en la ventana aparecerá __(base)__ junto al nombre del ususario:\n",
    "\n",
    "__(base)user@labtaa__"
   ]
  },
  {
   "cell_type": "markdown",
   "id": "b493af74-6ff4-4ab3-93da-bc1dbd1f6120",
   "metadata": {
    "tags": []
   },
   "source": [
    "8. Confirme que se instaló anaconda revisando los ambientes;"
   ]
  },
  {
   "cell_type": "code",
   "execution_count": null,
   "id": "ec276ba9-7d1b-4189-a439-131b8e208da1",
   "metadata": {},
   "outputs": [],
   "source": [
    "conda info --envs"
   ]
  },
  {
   "cell_type": "markdown",
   "id": "581d939a-1fda-4beb-a209-f85969cf47ca",
   "metadata": {},
   "source": [
    "En el servidor está instalado Jupyter y en anaconda también, siempre y cuando ud haya instalado anaconda y no una versión minimalista de la distribución, pero confirme sus \n",
    "versiones como se describe a continuación.\n",
    "\n",
    "- Desactive anaconda mediante:"
   ]
  },
  {
   "cell_type": "code",
   "execution_count": null,
   "id": "a82a7467-9e00-4c3e-8b69-2f0a60c18568",
   "metadata": {},
   "outputs": [],
   "source": [
    "conda deactivate"
   ]
  },
  {
   "cell_type": "markdown",
   "id": "e0e90018-e198-436a-97dc-29344794bea6",
   "metadata": {},
   "source": [
    "- confirme que existe un python nativo mediante:"
   ]
  },
  {
   "cell_type": "code",
   "execution_count": null,
   "id": "93557138-903a-454b-ab49-a027faad6385",
   "metadata": {},
   "outputs": [],
   "source": [
    "which python"
   ]
  },
  {
   "cell_type": "markdown",
   "id": "a9928dce-f900-44bf-ac1b-99d34821774c",
   "metadata": {},
   "source": [
    "- Active anaconda de nuevo mediante:"
   ]
  },
  {
   "cell_type": "code",
   "execution_count": null,
   "id": "4a132fdc-c1c3-490d-9f0c-6be1955d11b9",
   "metadata": {},
   "outputs": [],
   "source": [
    "conda activate"
   ]
  },
  {
   "cell_type": "markdown",
   "id": "e397da0b-a460-4daf-ad47-e83b417322a5",
   "metadata": {},
   "source": [
    "- Con anaconda activo vuelva a correr:"
   ]
  },
  {
   "cell_type": "code",
   "execution_count": null,
   "id": "75b505b6-0f6e-48c9-ba1f-b6297d302d7e",
   "metadata": {},
   "outputs": [],
   "source": [
    "which python"
   ]
  },
  {
   "cell_type": "markdown",
   "id": "1e9a2a3d-fbad-4023-b5d0-23b76dce26e4",
   "metadata": {
    "tags": []
   },
   "source": [
    "9. Cree un ambiente en donde hara sus intalaciones de anaconda"
   ]
  },
  {
   "cell_type": "markdown",
   "id": "0bf71bc4-bec0-4628-a5e3-edfa4c4e0919",
   "metadata": {},
   "source": [
    "10. Use el servidor "
   ]
  },
  {
   "cell_type": "markdown",
   "id": "83aeb4a6-2796-44fc-8c6f-483e3ca80246",
   "metadata": {},
   "source": [
    "## Segundo contacto: Conectandose mediante Jupyter"
   ]
  },
  {
   "cell_type": "markdown",
   "id": "8b40f03f-3df8-43cc-889c-71e2d6cb8fe3",
   "metadata": {},
   "source": [
    "Una vez insalados todos los paquetes a utilizar, el trabajo se realizará mediante Jupyter\n",
    "\n",
    "\n",
    "\n",
    "__Nota: Todo lo que realice en este punto es en teminal, nada debe realizar con Jupyter que es lo último de este tutorial__"
   ]
  },
  {
   "cell_type": "markdown",
   "id": "eb8512e1-4294-4dbf-8f52-f896bf630635",
   "metadata": {},
   "source": [
    "1. Desde su tertminal de su distribución GNU/Linux o WSL teclee para loguearse:"
   ]
  },
  {
   "cell_type": "code",
   "execution_count": null,
   "id": "1f2f53a0-5df9-468c-827a-e0e8d7e33922",
   "metadata": {},
   "outputs": [],
   "source": [
    "ssh user@10.5.7.10 #EL USER DEBE SER EL PROPIO"
   ]
  },
  {
   "cell_type": "markdown",
   "id": "b738f2f7-eb8e-4030-a040-decba2ab51be",
   "metadata": {},
   "source": [
    "2. Ponga su password\n",
    "\n",
    "3. En el servidor remoto ejecutar segun desee \"jupyter lab\" o \"jupyter notebook\":"
   ]
  },
  {
   "cell_type": "code",
   "execution_count": null,
   "id": "29723bcf-331a-4e3e-b26b-34952ae3fe20",
   "metadata": {},
   "outputs": [],
   "source": [
    "jupyter lab --no-browser --port=8888\n",
    "#jupyter notebook --no-browser --port=8888"
   ]
  },
  {
   "cell_type": "markdown",
   "id": "453aca9f-c6a1-4061-8400-e9206e1770d2",
   "metadata": {},
   "source": [
    "La orden anterior permitirá que Jupyter se conecte a un puerto pero sin abrir en explorador"
   ]
  },
  {
   "cell_type": "markdown",
   "id": "6bf346a2-84b4-486e-8515-b814d69ab4a4",
   "metadata": {},
   "source": [
    "4. __Sin cerrar la terminal anterior__, la cuál continuara ejecutando,abra una segunda terminal de su maquina local y conectese al servidor también"
   ]
  },
  {
   "cell_type": "code",
   "execution_count": null,
   "id": "8d19b43d-c3fe-40c5-aec2-4d02f1f03e24",
   "metadata": {},
   "outputs": [],
   "source": [
    "ssh user@10.5.7.10 #EL USER DEBE SER EL PROPIO"
   ]
  },
  {
   "cell_type": "markdown",
   "id": "84e5ea4a-3749-402f-bb7a-990be0cf55d3",
   "metadata": {},
   "source": [
    "5. En esta segunda terminal y despues de haberse loguead een el servidor introduzca:"
   ]
  },
  {
   "cell_type": "code",
   "execution_count": null,
   "id": "01aa33c1-aa49-4934-93a5-1fe7a427e9f8",
   "metadata": {},
   "outputs": [],
   "source": [
    "ssh -NL localhost:1234:localhost:8888 user@10.5.7.10"
   ]
  },
  {
   "cell_type": "markdown",
   "id": "8648b11d-0bcd-4040-9862-8a30816d3515",
   "metadata": {},
   "source": [
    "En este punto su maquina local ya está conectada al servidor por Jupyter __Nota: No cierre ninguna de las dos ventanas en ejecución__\n",
    "\n",
    "6. Vaya al explorador de su preferencia de su maquina local y pegue lo siguiente en la dirección:\n",
    "\n"
   ]
  },
  {
   "cell_type": "markdown",
   "id": "c096b529-ae17-497a-b089-c9f63581cbc8",
   "metadata": {},
   "source": [
    "http://localhost:1234"
   ]
  },
  {
   "cell_type": "markdown",
   "id": "a68b4567-355f-4b87-aeac-58f3e3e7de1b",
   "metadata": {},
   "source": [
    "7. Congratulaciones, está conectado, realice su procedimiento en Jupyter"
   ]
  }
 ],
 "metadata": {
  "kernelspec": {
   "display_name": "Bash",
   "language": "bash",
   "name": "bash"
  },
  "language_info": {
   "codemirror_mode": "shell",
   "file_extension": ".sh",
   "mimetype": "text/x-sh",
   "name": "bash"
  }
 },
 "nbformat": 4,
 "nbformat_minor": 5
}
