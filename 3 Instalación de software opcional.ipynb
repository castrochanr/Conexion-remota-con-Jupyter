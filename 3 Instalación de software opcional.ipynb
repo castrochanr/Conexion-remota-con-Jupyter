{
 "cells": [
  {
   "cell_type": "markdown",
   "id": "fad9e943-2905-4590-bc0d-35d3ad30247c",
   "metadata": {
    "tags": []
   },
   "source": [
    "# Instalación de python y anaconda en caso de ser requeridos\n",
    "\n",
    "__Nota: Todo lo que realizará a continuación sera con conexión remota a un servidor desde terminal WSL o desde terminal GNU/Linux (logeado por ssh en el servidor):__\n",
    "\n",
    "Los servidores GNU/Linux ya viene con [python](https://www.python.org/doc/), [Jupyter](https://jupyter.org/)-[lab](https://jupyterlab.readthedocs.io/en/stable/) y [Jupyter](https://jupyter.org/)-[notebook](https://ebac.mx/blog/jupyter-notebook) nativo instalado, y muy probablemente también anaconda, pero si desea y puede hacer la instalación de anaconda, primero debe tener encuenta que se instala en su __$HOME__ y no en el sistema, entonces las instalacione remotas de anaconda en servidores se almacenan en el $HOME de los usuarios, se proporciona esta información en caso de que se anime arealizar la instalación de la distribución de anaconda.\n",
    "\n",
    "__Nota: En caso contrario, ya debe estar instalado en su sistema o debe cargarse con un gestor de carga de paquetes com Environment-modules.__\n",
    "\n",
    "\n",
    "Se dejan los pasos a seguir para la instalación de anaconda.\n",
    "\n",
    "Se describen los pasos a continuación:\n",
    "\n",
    "\n",
    "1. Primero en el explorador de internet de la __maquina local__ se abre la pagina de [anaconda](https://www.anaconda.com/products/distribution#Downloads) y se busca la última versión:  \n",
    "https://www.anaconda.com/products/distribution#Downloads"
   ]
  },
  {
   "cell_type": "markdown",
   "id": "b4574a85-c1e6-4cd1-9fd4-ac26d8c01880",
   "metadata": {},
   "source": [
    "2. Enla sección de descargas, se seleccina el paquete a instalar, si el servidor es GNU/Linux, entonces la versión a instalar es de linux, se copia la dirección de enlace y se pega en la __terminal remota__ del servidor con click derecho sobre el ícono __64-Bit (x86) Installer (737 MB)__ y precedido por el comando __*wget*__, por ejemplo:"
   ]
  },
  {
   "cell_type": "code",
   "execution_count": null,
   "id": "19d44d12-ca76-4541-a480-74a625289e16",
   "metadata": {},
   "outputs": [],
   "source": [
    "wget https://repo.anaconda.com/archive/Anaconda3-2022.10-Linux-x86_64.sh"
   ]
  },
  {
   "cell_type": "markdown",
   "id": "7d2e8af5-246b-4626-840e-8b27c194997c",
   "metadata": {},
   "source": [
    "3. Se introduzce el comando __\"ls\"__ para listar archivos y ver si se descargo el archivo instalador con extensión **_*.sh_**:"
   ]
  },
  {
   "cell_type": "code",
   "execution_count": null,
   "id": "8429d2a1-0b57-49ae-96b2-912a903b2ac2",
   "metadata": {},
   "outputs": [],
   "source": [
    "ls"
   ]
  },
  {
   "cell_type": "markdown",
   "id": "e8701d1b-2979-4166-b8c4-9f0f96b2e633",
   "metadata": {
    "tags": []
   },
   "source": [
    "4. Es probable que encuentre un archivo como __Anaconda3-2022.10-Linux-x86_64.sh__ entre los archivos, entonces se ejecutael instalador mediante:"
   ]
  },
  {
   "cell_type": "code",
   "execution_count": null,
   "id": "ff1499fb-35ce-42ba-88d1-494595d6133b",
   "metadata": {},
   "outputs": [],
   "source": [
    "sh Anaconda3-2022.10-Linux-x86_64.sh"
   ]
  },
  {
   "cell_type": "markdown",
   "id": "f823e42d-01e9-4797-a7fc-2d3266416877",
   "metadata": {},
   "source": [
    "5. Las instrucciones del instalador, guían al usuario:\n",
    "\n",
    "- Se debe aceptar la licencia escribiendo \"*yes*\" cuando se solicite.\n",
    "\n",
    "- Se debe aceptar con enter o intro cuando el instaladorpide confirmar el directorio de instalación /home/user\n",
    "\n",
    "- Se debe escribir \"*yes*\" al final de la instalación cuando el instalador pregunta si quiere ejecutar conda init para inicioa automático de anaconda\n",
    "\n",
    "\n",
    "\n",
    "6. Salga del servidor con la finalidad de reiniciarlo escribiendo:"
   ]
  },
  {
   "cell_type": "code",
   "execution_count": null,
   "id": "bc2a62ca-aff9-44f3-87bc-8cfae69a78ac",
   "metadata": {},
   "outputs": [],
   "source": [
    "exit"
   ]
  },
  {
   "cell_type": "markdown",
   "id": "d509a165-295c-4e71-b3f9-c1e5a94da322",
   "metadata": {},
   "source": [
    "En la terminal antes de la insalación se ve así: \n",
    "__user@servidor__\n",
    "\n",
    "7. Posterior a la instalación de anaconda al conectarse al servidor, en la ventana aparecerá __(base)__ junto al nombre del ususario:\n",
    "\n",
    "__(base)user@servidor__"
   ]
  },
  {
   "cell_type": "markdown",
   "id": "b493af74-6ff4-4ab3-93da-bc1dbd1f6120",
   "metadata": {
    "tags": []
   },
   "source": [
    "8. Se confirma que la instalación de anaconda revisando los ambientes;"
   ]
  },
  {
   "cell_type": "code",
   "execution_count": null,
   "id": "ec276ba9-7d1b-4189-a439-131b8e208da1",
   "metadata": {},
   "outputs": [],
   "source": [
    "conda info --envs"
   ]
  },
  {
   "cell_type": "markdown",
   "id": "581d939a-1fda-4beb-a209-f85969cf47ca",
   "metadata": {},
   "source": [
    "En los servidores con GNU/Linux ya traen preinsalado python y pueden traer Jupyter, la distribución de anaconda también traje jupyter, siempre y cuando se haya instalado anaconda y no una versión minimalista de la como conda, pero se puede confirmar si en la instalación hay Jupyter mediante la revisión de cual jupyter hay en el sistema.\n",
    "\n",
    "\n",
    "- Primero, se desactiva anaconda mediante:"
   ]
  },
  {
   "cell_type": "code",
   "execution_count": null,
   "id": "a82a7467-9e00-4c3e-8b69-2f0a60c18568",
   "metadata": {},
   "outputs": [],
   "source": [
    "conda deactivate"
   ]
  },
  {
   "cell_type": "markdown",
   "id": "e0e90018-e198-436a-97dc-29344794bea6",
   "metadata": {},
   "source": [
    "- Segundo, se confirma que existe un python nativo mediante:"
   ]
  },
  {
   "cell_type": "code",
   "execution_count": null,
   "id": "93557138-903a-454b-ab49-a027faad6385",
   "metadata": {},
   "outputs": [],
   "source": [
    "which python # Esto muestra la ruta de instalación nativa de Python\n",
    "python --version# Esto muestra la versión nativa de Python"
   ]
  },
  {
   "cell_type": "code",
   "execution_count": null,
   "id": "56f02450-609c-4c38-bf18-3261c291cc91",
   "metadata": {},
   "outputs": [],
   "source": [
    "which Jupyter #Esto muestra la ruta de instalación nativa de Jupyter\n",
    "jupyter --version # Esto muestra la versión nativa de Jupyter"
   ]
  },
  {
   "cell_type": "markdown",
   "id": "a9928dce-f900-44bf-ac1b-99d34821774c",
   "metadata": {},
   "source": [
    "- Tercero, se activa anaconda de nuevamente mediante:"
   ]
  },
  {
   "cell_type": "code",
   "execution_count": null,
   "id": "4a132fdc-c1c3-490d-9f0c-6be1955d11b9",
   "metadata": {},
   "outputs": [],
   "source": [
    "conda activate"
   ]
  },
  {
   "cell_type": "markdown",
   "id": "e397da0b-a460-4daf-ad47-e83b417322a5",
   "metadata": {},
   "source": [
    "- Con anaconda activo, se vuelve a correr:"
   ]
  },
  {
   "cell_type": "code",
   "execution_count": null,
   "id": "75b505b6-0f6e-48c9-ba1f-b6297d302d7e",
   "metadata": {},
   "outputs": [],
   "source": [
    "which python # Esto muestra la ruta de instalación nativa de Python\n",
    "python --version# Esto muestra la versión nativa de Python"
   ]
  },
  {
   "cell_type": "code",
   "execution_count": null,
   "id": "29b7c0d4-d166-43c7-9864-669664fd01e9",
   "metadata": {},
   "outputs": [],
   "source": [
    "which Jupyter #Esto muestra la ruta de instalación nativa de Jupyter\n",
    "jupyter --version # Esto muestra la versión nativa de Jupyter"
   ]
  },
  {
   "cell_type": "markdown",
   "id": "1e9a2a3d-fbad-4023-b5d0-23b76dce26e4",
   "metadata": {
    "tags": []
   },
   "source": [
    "9. Se deben crear ambientes en donde realicen las intalaciones de anaconda de acuerdo a las necesidades de los usuarios"
   ]
  }
 ],
 "metadata": {
  "kernelspec": {
   "display_name": "Python 3 (ipykernel)",
   "language": "python",
   "name": "python3"
  },
  "language_info": {
   "codemirror_mode": {
    "name": "ipython",
    "version": 3
   },
   "file_extension": ".py",
   "mimetype": "text/x-python",
   "name": "python",
   "nbconvert_exporter": "python",
   "pygments_lexer": "ipython3",
   "version": "3.11.2"
  }
 },
 "nbformat": 4,
 "nbformat_minor": 5
}
